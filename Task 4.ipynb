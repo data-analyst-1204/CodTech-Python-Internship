{
 "cells": [
  {
   "cell_type": "raw",
   "id": "0c992255-dc64-482c-9411-6926948b332b",
   "metadata": {},
   "source": [
    "Create a predictive model usning SCIKIT-learn to clasify or predict outcomes from a dataset for example spam email detection. "
   ]
  },
  {
   "cell_type": "code",
   "execution_count": 2,
   "id": "6583a280-7557-41ee-904d-8acdd92530ee",
   "metadata": {},
   "outputs": [],
   "source": [
    "import pandas as pd\n",
    "import os\n",
    "import zipfile\n",
    "import numpy as np\n",
    "import matplotlib.pyplot as plt\n",
    "import seaborn as sns\n",
    "from sklearn.model_selection import train_test_split\n",
    "from sklearn.feature_extraction.text import TfidfVectorizer\n",
    "from sklearn.naive_bayes import MultinomialNB\n",
    "from sklearn.metrics import accuracy_score, classification_report"
   ]
  },
  {
   "cell_type": "raw",
   "id": "4537b864-13cd-4736-8a9f-e2f1d8f06c68",
   "metadata": {},
   "source": [
    "Load and Inspect the Dataset"
   ]
  },
  {
   "cell_type": "code",
   "execution_count": 3,
   "id": "d72fa26f-f57c-4f44-9d22-9b1f4ddbfd07",
   "metadata": {},
   "outputs": [
    {
     "name": "stdout",
     "output_type": "stream",
     "text": [
      "File successfully loaded!\n",
      "     v1                                                 v2 Unnamed: 2  \\\n",
      "0   ham  Go until jurong point, crazy.. Available only ...        NaN   \n",
      "1   ham                      Ok lar... Joking wif u oni...        NaN   \n",
      "2  spam  Free entry in 2 a wkly comp to win FA Cup fina...        NaN   \n",
      "3   ham  U dun say so early hor... U c already then say...        NaN   \n",
      "4   ham  Nah I don't think he goes to usf, he lives aro...        NaN   \n",
      "\n",
      "  Unnamed: 3 Unnamed: 4  \n",
      "0        NaN        NaN  \n",
      "1        NaN        NaN  \n",
      "2        NaN        NaN  \n",
      "3        NaN        NaN  \n",
      "4        NaN        NaN  \n"
     ]
    }
   ],
   "source": [
    "file_path = \"C:/Users/spam.csv\"  # Update this path if needed\n",
    "\n",
    "# Load dataset\n",
    "try:\n",
    "    data = pd.read_csv(file_path, encoding=\"latin-1\")\n",
    "    print(\"File successfully loaded!\")\n",
    "except FileNotFoundError:\n",
    "    print(f\"File not found! Expected at: {file_path}\")\n",
    "    raise\n",
    "\n",
    "# Display first few rows\n",
    "print(data.head())"
   ]
  },
  {
   "cell_type": "code",
   "execution_count": null,
   "id": "74555a2d-ecc4-4059-84e7-012b14615556",
   "metadata": {},
   "outputs": [],
   "source": []
  },
  {
   "cell_type": "raw",
   "id": "e730c038-b42f-4546-8178-3d4936d6b209",
   "metadata": {},
   "source": [
    "Data Cleaning and Preprocessing"
   ]
  },
  {
   "cell_type": "code",
   "execution_count": 4,
   "id": "672168ab-cb47-4fea-b294-ee81c9860106",
   "metadata": {},
   "outputs": [
    {
     "name": "stdout",
     "output_type": "stream",
     "text": [
      "Data cleaned successfully!\n",
      "   label                                            message\n",
      "0      0  Go until jurong point, crazy.. Available only ...\n",
      "1      0                      Ok lar... Joking wif u oni...\n",
      "2      1  Free entry in 2 a wkly comp to win FA Cup fina...\n",
      "3      0  U dun say so early hor... U c already then say...\n",
      "4      0  Nah I don't think he goes to usf, he lives aro...\n"
     ]
    }
   ],
   "source": [
    "# Keep only relevant columns\n",
    "data = data.iloc[:, [0, 1]]\n",
    "data.columns = ['label', 'message']  # Rename columns\n",
    "\n",
    "# Convert labels: 'ham' → 0, 'spam' → 1\n",
    "data['label'] = data['label'].map({'ham': 0, 'spam': 1})\n",
    "\n",
    "# Display first few cleaned rows\n",
    "print(\"Data cleaned successfully!\")\n",
    "print(data.head())"
   ]
  },
  {
   "cell_type": "code",
   "execution_count": null,
   "id": "4b2cc37d-2b59-4a39-9d47-1603b6cb9600",
   "metadata": {},
   "outputs": [],
   "source": []
  },
  {
   "cell_type": "raw",
   "id": "72fe7dfc-62ca-4432-9899-e67b386e3337",
   "metadata": {},
   "source": [
    "Train-Test Split"
   ]
  },
  {
   "cell_type": "code",
   "execution_count": 5,
   "id": "b886dc4d-97df-4675-bcdf-07b5d1947786",
   "metadata": {},
   "outputs": [
    {
     "name": "stdout",
     "output_type": "stream",
     "text": [
      "Training samples: 4457, Testing samples: 1115\n"
     ]
    }
   ],
   "source": [
    "X_train, X_test, y_train, y_test = train_test_split(\n",
    "    data['message'], data['label'], test_size=0.2, random_state=42, stratify=data['label']\n",
    ")\n",
    "\n",
    "print(f\"Training samples: {len(X_train)}, Testing samples: {len(X_test)}\")"
   ]
  },
  {
   "cell_type": "code",
   "execution_count": null,
   "id": "1b281ea6-593d-4bc7-a8b1-b86335f0d120",
   "metadata": {},
   "outputs": [],
   "source": []
  },
  {
   "cell_type": "raw",
   "id": "14226da8-c78e-4eed-ac8e-202833b8582c",
   "metadata": {},
   "source": [
    "Text Vectorization"
   ]
  },
  {
   "cell_type": "code",
   "execution_count": 6,
   "id": "fa39fdcc-7ff6-4089-a8a1-a6b1666b83e6",
   "metadata": {},
   "outputs": [],
   "source": [
    "vectorizer = TfidfVectorizer(stop_words='english')\n",
    "X_train_tfidf = vectorizer.fit_transform(X_train)\n",
    "X_test_tfidf = vectorizer.transform(X_test)"
   ]
  },
  {
   "cell_type": "code",
   "execution_count": null,
   "id": "ed234066-90bc-41ac-b990-a37eacd04372",
   "metadata": {},
   "outputs": [],
   "source": []
  },
  {
   "cell_type": "raw",
   "id": "95fc2283-5844-4320-aef9-175353b16692",
   "metadata": {},
   "source": [
    "Train the Naive Bayes Classifier"
   ]
  },
  {
   "cell_type": "code",
   "execution_count": 7,
   "id": "9da1d027-359b-492d-bdb8-b47a6e3ffe10",
   "metadata": {},
   "outputs": [
    {
     "name": "stdout",
     "output_type": "stream",
     "text": [
      "Model Trained Successfully! Accuracy: 96.86%\n",
      "\n",
      "Classification Report:\n",
      "              precision    recall  f1-score   support\n",
      "\n",
      "           0       0.97      1.00      0.98       966\n",
      "           1       1.00      0.77      0.87       149\n",
      "\n",
      "    accuracy                           0.97      1115\n",
      "   macro avg       0.98      0.88      0.92      1115\n",
      "weighted avg       0.97      0.97      0.97      1115\n",
      "\n"
     ]
    }
   ],
   "source": [
    "model = MultinomialNB()\n",
    "model.fit(X_train_tfidf, y_train)\n",
    "\n",
    "# Predictions\n",
    "y_pred = model.predict(X_test_tfidf)\n",
    "\n",
    "# Model Evaluation\n",
    "accuracy = accuracy_score(y_test, y_pred)\n",
    "print(f\"Model Trained Successfully! Accuracy: {accuracy * 100:.2f}%\\n\")\n",
    "\n",
    "# Classification Report\n",
    "print(\"Classification Report:\")\n",
    "print(classification_report(y_test, y_pred))"
   ]
  },
  {
   "cell_type": "code",
   "execution_count": null,
   "id": "297bbab6-6202-4f8d-8a5d-8fee05a30f5f",
   "metadata": {},
   "outputs": [],
   "source": []
  },
  {
   "cell_type": "raw",
   "id": "999d27b5-eae1-41a6-82fb-94a2c65bc09c",
   "metadata": {},
   "source": [
    "Testing the Model with Sample Messages"
   ]
  },
  {
   "cell_type": "code",
   "execution_count": 8,
   "id": "282f9087-a4c8-4614-92f1-5407dfadf287",
   "metadata": {},
   "outputs": [
    {
     "name": "stdout",
     "output_type": "stream",
     "text": [
      "Message: Congratulations! You've won a free lottery. Call now to claim your prize.\n",
      "Prediction: Spam\n",
      "\n",
      "Message: Hey, are we still meeting for lunch today?\n",
      "Prediction: Ham\n",
      "\n",
      "Message: URGENT! Your bank account has been compromised. Click this link to secure it.\n",
      "Prediction: Ham\n",
      "\n",
      "Message: Let’s catch up this weekend!\n",
      "Prediction: Ham\n",
      "\n"
     ]
    }
   ],
   "source": [
    "sample_messages = [\n",
    "    \"Congratulations! You've won a free lottery. Call now to claim your prize.\",\n",
    "    \"Hey, are we still meeting for lunch today?\",\n",
    "    \"URGENT! Your bank account has been compromised. Click this link to secure it.\",\n",
    "    \"Let’s catch up this weekend!\"\n",
    "]\n",
    "\n",
    "# Convert sample messages to TF-IDF format\n",
    "sample_tfidf = vectorizer.transform(sample_messages)\n",
    "\n",
    "# Predict\n",
    "predictions = model.predict(sample_tfidf)\n",
    "\n",
    "# Display Results\n",
    "for msg, label in zip(sample_messages, predictions):\n",
    "    print(f\"Message: {msg}\\nPrediction: {'Spam' if label == 1 else 'Ham'}\\n\")"
   ]
  },
  {
   "cell_type": "code",
   "execution_count": 9,
   "id": "145c3f27-38aa-4a3f-999b-cccef42e74da",
   "metadata": {},
   "outputs": [
    {
     "name": "stdout",
     "output_type": "stream",
     "text": [
      "Message: You have been selected for a $500 gift card! Click the link to claim now.\n",
      "Prediction: Spam\n",
      "\n",
      "Message: Don't forget about our team meeting at 3 PM.\n",
      "Prediction: Ham\n",
      "\n",
      "Message: Win a brand new iPhone 15! Just answer this quick survey.\n",
      "Prediction: Ham\n",
      "\n",
      "Message: Hey, can you send me the report by EOD?\n",
      "Prediction: Ham\n",
      "\n",
      "Message: Exclusive deal for you: Get 50% off on all purchases today!\n",
      "Prediction: Ham\n",
      "\n",
      "Message: I will call you later. Let’s plan for the weekend.\n",
      "Prediction: Ham\n",
      "\n",
      "Message: URGENT: Your PayPal account has been suspended. Verify now to reactivate.\n",
      "Prediction: Spam\n",
      "\n",
      "Message: Your OTP for login is 543210. Do not share with anyone.\n",
      "Prediction: Ham\n",
      "\n",
      "Message: Limited-time offer! Buy one get one free. Order now before it’s gone!\n",
      "Prediction: Ham\n",
      "\n",
      "Message: Hi, just checking in to see how you're doing.\n",
      "Prediction: Ham\n",
      "\n"
     ]
    }
   ],
   "source": [
    "# Additional sample messages for testing\n",
    "test_messages = [\n",
    "    \"You have been selected for a $500 gift card! Click the link to claim now.\",\n",
    "    \"Don't forget about our team meeting at 3 PM.\",\n",
    "    \"Win a brand new iPhone 15! Just answer this quick survey.\",\n",
    "    \"Hey, can you send me the report by EOD?\",\n",
    "    \"Exclusive deal for you: Get 50% off on all purchases today!\",\n",
    "    \"I will call you later. Let’s plan for the weekend.\",\n",
    "    \"URGENT: Your PayPal account has been suspended. Verify now to reactivate.\",\n",
    "    \"Your OTP for login is 543210. Do not share with anyone.\",\n",
    "    \"Limited-time offer! Buy one get one free. Order now before it’s gone!\",\n",
    "    \"Hi, just checking in to see how you're doing.\"\n",
    "]\n",
    "\n",
    "# Convert messages to TF-IDF format\n",
    "test_tfidf = vectorizer.transform(test_messages)\n",
    "\n",
    "# Predict\n",
    "test_predictions = model.predict(test_tfidf)\n",
    "\n",
    "# Display Results\n",
    "for msg, label in zip(test_messages, test_predictions):\n",
    "    print(f\"Message: {msg}\\nPrediction: {'Spam' if label == 1 else 'Ham'}\\n\")"
   ]
  },
  {
   "cell_type": "code",
   "execution_count": null,
   "id": "41655b9c-dbaa-418f-b50d-142e5d25e371",
   "metadata": {},
   "outputs": [],
   "source": []
  },
  {
   "cell_type": "code",
   "execution_count": null,
   "id": "a9b64169-9b6a-40b7-9dcb-3418a26f7a5e",
   "metadata": {},
   "outputs": [],
   "source": []
  }
 ],
 "metadata": {
  "kernelspec": {
   "display_name": "Python 3 (ipykernel)",
   "language": "python",
   "name": "python3"
  },
  "language_info": {
   "codemirror_mode": {
    "name": "ipython",
    "version": 3
   },
   "file_extension": ".py",
   "mimetype": "text/x-python",
   "name": "python",
   "nbconvert_exporter": "python",
   "pygments_lexer": "ipython3",
   "version": "3.12.4"
  }
 },
 "nbformat": 4,
 "nbformat_minor": 5
}
