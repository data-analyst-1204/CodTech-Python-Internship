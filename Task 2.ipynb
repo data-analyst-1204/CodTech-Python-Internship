{
 "cells": [
  {
   "cell_type": "raw",
   "id": "65917b56-8882-4fae-9efc-7aca1e17e9a0",
   "metadata": {},
   "source": [
    "1. Data Reading and Analysis: I'll create a script to read data from a file (e.g., CSV, Excel) and perform analysis.\n",
    "2. PDF Generation: Use FPDF or ReportLab to generate a well-formatted PDF report.\n",
    "3. Sample Report: Ensure the script produces a professional-looking report."
   ]
  },
  {
   "cell_type": "code",
   "execution_count": 1,
   "id": "d1965cc5-a0c5-41fd-b796-36f7e823781d",
   "metadata": {},
   "outputs": [
    {
     "name": "stdout",
     "output_type": "stream",
     "text": [
      "YF.download() has changed argument auto_adjust default to True\n"
     ]
    },
    {
     "name": "stderr",
     "output_type": "stream",
     "text": [
      "[*********************100%***********************]  1 of 1 completed"
     ]
    },
    {
     "name": "stdout",
     "output_type": "stream",
     "text": [
      "Price        Date         Close          High           Low          Open  \\\n",
      "Ticker                    ^NSEI         ^NSEI         ^NSEI         ^NSEI   \n",
      "0      2024-02-01  21697.449219  21832.949219  21658.750000  21780.650391   \n",
      "1      2024-02-02  21853.800781  22126.800781  21805.550781  21812.750000   \n",
      "2      2024-02-05  21771.699219  21964.300781  21726.949219  21921.050781   \n",
      "3      2024-02-06  21929.400391  21951.400391  21737.550781  21825.199219   \n",
      "4      2024-02-07  21930.500000  22053.300781  21860.150391  22045.050781   \n",
      "\n",
      "Price   Volume   Returns Volatility  \n",
      "Ticker   ^NSEI                       \n",
      "0       332500 -0.130030  15.489715  \n",
      "1       442800  0.720599  15.632753  \n",
      "2       440800 -0.375686  15.486488  \n",
      "3       371000  0.724340  15.521154  \n",
      "4       346300  0.005014  15.508718  \n"
     ]
    },
    {
     "name": "stderr",
     "output_type": "stream",
     "text": [
      "\n"
     ]
    }
   ],
   "source": [
    "import yfinance as yf\n",
    "import pandas as pd\n",
    "import numpy as np\n",
    "\n",
    "# Fetch NIFTY50 historical data from 01/01/2024 to 07/03/2025\n",
    "nifty50 = yf.download('^NSEI', start='2024-01-01', end='2025-03-07')\n",
    "\n",
    "# Calculate daily percentage returns and daily volatility (21-day rolling)\n",
    "nifty50['Returns'] = nifty50['Close'].pct_change() * 100  # Daily percentage returns\n",
    "nifty50['Volatility'] = nifty50['Returns'].rolling(window=21).std() * np.sqrt(252)\n",
    "\n",
    "# Drop NaN values and reset the index\n",
    "nifty50 = nifty50.dropna().reset_index()\n",
    "\n",
    "# Display the first few rows of the processed data\n",
    "print(nifty50.head())\n",
    "\n",
    "# Save the analyzed data to a CSV file\n",
    "nifty50.to_csv('NIFTY50_Analysis.csv', index=False)"
   ]
  },
  {
   "cell_type": "raw",
   "id": "fce90fd4-6665-432c-82e7-2725895a324a",
   "metadata": {},
   "source": [
    "Code for analysing the Daily % Returns on Nifty50"
   ]
  },
  {
   "cell_type": "code",
   "execution_count": 3,
   "id": "fbb5e066-fff2-4111-95fd-5b590c872996",
   "metadata": {},
   "outputs": [
    {
     "data": {
      "text/html": [
       "\n",
       "        <iframe\n",
       "            width=\"100%\"\n",
       "            height=\"650\"\n",
       "            src=\"http://127.0.0.1:8070/\"\n",
       "            frameborder=\"0\"\n",
       "            allowfullscreen\n",
       "            \n",
       "        ></iframe>\n",
       "        "
      ],
      "text/plain": [
       "<IPython.lib.display.IFrame at 0x22ae153b980>"
      ]
     },
     "metadata": {},
     "output_type": "display_data"
    }
   ],
   "source": [
    "import pandas as pd\n",
    "from dash import Dash, html, dcc\n",
    "import plotly.express as px\n",
    "\n",
    "# Load the analyzed data from the CSV file\n",
    "nifty50 = pd.read_csv('NIFTY50_Analysis.csv')\n",
    "\n",
    "# Initialize the Dash app\n",
    "app = Dash(__name__)\n",
    "\n",
    "app.layout = html.Div([\n",
    "    html.H1('NIFTY50 Performance Dashboard'),\n",
    "    html.Div([\n",
    "        html.H2('Daily % Price Return'),\n",
    "        dcc.Graph(\n",
    "            figure=px.line(nifty50, x='Date', y='Returns', title='NIFTY50 Daily % Price Return',\n",
    "                           color_discrete_sequence=px.colors.qualitative.Set1)\n",
    "        )\n",
    "    ]),\n",
    "])\n",
    "\n",
    "# Run the app on a different port\n",
    "if __name__ == '__main__':\n",
    "    app.run_server(debug=True, port=8070)\n",
    "\n",
    "# Prerequisites and Setup Instructions\n",
    "# 1. Install required libraries: pip install pandas dash plotly\n",
    "# 2. Ensure the 'NIFTY50_Analysis.csv' file is in the same directory as this script.\n",
    "# 3. Compatible with Jupyter, VS Code, or any Python IDE."
   ]
  },
  {
   "cell_type": "raw",
   "id": "3b21c6c1-f081-4fc6-8183-67217545fc8d",
   "metadata": {},
   "source": [
    "Code for analysing the Daily Volatility on Nifty50"
   ]
  },
  {
   "cell_type": "code",
   "execution_count": 4,
   "id": "0bc833e9-899c-489a-9e4a-2efc0047c481",
   "metadata": {},
   "outputs": [
    {
     "data": {
      "text/html": [
       "\n",
       "        <iframe\n",
       "            width=\"100%\"\n",
       "            height=\"650\"\n",
       "            src=\"http://127.0.0.1:8090/\"\n",
       "            frameborder=\"0\"\n",
       "            allowfullscreen\n",
       "            \n",
       "        ></iframe>\n",
       "        "
      ],
      "text/plain": [
       "<IPython.lib.display.IFrame at 0x22ae153b8c0>"
      ]
     },
     "metadata": {},
     "output_type": "display_data"
    }
   ],
   "source": [
    "import pandas as pd\n",
    "from dash import Dash, html, dcc\n",
    "import plotly.express as px\n",
    "\n",
    "# Load the analyzed data from the CSV file\n",
    "nifty50 = pd.read_csv('NIFTY50_Analysis.csv')\n",
    "\n",
    "# Initialize the Dash app\n",
    "app = Dash(__name__)\n",
    "\n",
    "app.layout = html.Div([\n",
    "    html.H1('NIFTY50 Performance Dashboard'),\n",
    "    html.Div([\n",
    "        html.H2('Daily Volatility (21-Day Rolling)'),\n",
    "        dcc.Graph(\n",
    "            figure=px.line(nifty50, x='Date', y='Volatility', title='NIFTY50 Daily Volatility (21-Day Rolling)',\n",
    "                           color_discrete_sequence=px.colors.qualitative.Bold)\n",
    "        )\n",
    "    ]),\n",
    "])\n",
    "\n",
    "# Run the app on a different port to avoid conflicts\n",
    "if __name__ == '__main__':\n",
    "    app.run_server(debug=False, port=8090)"
   ]
  },
  {
   "cell_type": "raw",
   "id": "b3625486-c3b1-47cb-8319-41afc4532f84",
   "metadata": {},
   "source": [
    "Creating a PDF using FPDF. I also added some commentary regrading my analysis in the report."
   ]
  },
  {
   "cell_type": "code",
   "execution_count": 5,
   "id": "625df4cf-5e86-4576-8b46-8a506562f3b5",
   "metadata": {},
   "outputs": [
    {
     "data": {
      "text/html": [
       "\n",
       "        <iframe\n",
       "            width=\"100%\"\n",
       "            height=\"650\"\n",
       "            src=\"http://127.0.0.1:61311/\"\n",
       "            frameborder=\"0\"\n",
       "            allowfullscreen\n",
       "            \n",
       "        ></iframe>\n",
       "        "
      ],
      "text/plain": [
       "<IPython.lib.display.IFrame at 0x22ae695b0e0>"
      ]
     },
     "metadata": {},
     "output_type": "display_data"
    },
    {
     "data": {
      "text/plain": [
       "''"
      ]
     },
     "execution_count": 5,
     "metadata": {},
     "output_type": "execute_result"
    }
   ],
   "source": [
    "import pandas as pd\n",
    "from dash import Dash, html, dcc\n",
    "import plotly.express as px\n",
    "from fpdf import FPDF\n",
    "from datetime import datetime\n",
    "import socket\n",
    "import threading\n",
    "import matplotlib.pyplot as plt\n",
    "\n",
    "# Load the analyzed data from the CSV file\n",
    "nifty50 = pd.read_csv('NIFTY50_Analysis.csv')\n",
    "nifty50['Date'] = pd.to_datetime(nifty50['Date'])  # Ensure 'Date' is in datetime format\n",
    "\n",
    "# Initialize the Dash app\n",
    "app = Dash(__name__)\n",
    "\n",
    "app.layout = html.Div([\n",
    "    html.H1('NIFTY50 Performance Dashboard'),\n",
    "    html.Div([\n",
    "        html.H2('Daily Returns'),\n",
    "        dcc.Graph(\n",
    "            figure=px.line(nifty50, x='Date', y='Returns', title='NIFTY50 Daily Returns',\n",
    "                           color_discrete_sequence=px.colors.qualitative.Bold)\n",
    "        )\n",
    "    ]),\n",
    "    html.Div([\n",
    "        html.H2('Daily Volatility (21-Day Rolling)'),\n",
    "        dcc.Graph(\n",
    "            figure=px.line(nifty50, x='Date', y='Volatility', title='NIFTY50 Daily Volatility (21-Day Rolling)',\n",
    "                           color_discrete_sequence=px.colors.qualitative.Bold)\n",
    "        )\n",
    "    ]),\n",
    "])\n",
    "\n",
    "# Function to find an available port\n",
    "def find_free_port():\n",
    "    with socket.socket(socket.AF_INET, socket.SOCK_STREAM) as s:\n",
    "        s.bind(('localhost', 0))\n",
    "        return s.getsockname()[1]\n",
    "\n",
    "# Function to run the Dash app in a separate thread\n",
    "def run_dash_app():\n",
    "    app.run_server(debug=False, port=find_free_port())\n",
    "\n",
    "# Start the Dash app in a separate thread\n",
    "threading.Thread(target=run_dash_app).start()\n",
    "\n",
    "# Generate a PDF report using FPDF\n",
    "class PDFReport(FPDF):\n",
    "    def header(self):\n",
    "        self.set_font('Arial', 'B', 12)\n",
    "        self.cell(0, 10, 'NIFTY50 Analysis', 0, 1, 'C')\n",
    "        self.set_font('Arial', '', 10)\n",
    "        self.cell(0, 10, f'{datetime.today().strftime(\"%d/%b/%Y\")}', 0, 0, 'R')\n",
    "        self.ln(10)\n",
    "\n",
    "    def footer(self):\n",
    "        self.set_y(-15)\n",
    "        self.set_font('Arial', 'I', 8)\n",
    "        self.cell(0, 10, f'Page {self.page_no()}', 0, 0, 'C')\n",
    "\n",
    "# Create a PDF instance\n",
    "pdf = PDFReport()\n",
    "pdf.add_page()\n",
    "\n",
    "# Cover Page\n",
    "pdf.set_font('Arial', 'B', 16)\n",
    "pdf.cell(0, 10, 'NIFTY50 Analysis', 0, 1, 'C')\n",
    "pdf.set_font('Arial', '', 12)\n",
    "pdf.cell(0, 10, 'Time Period: 01/Jan/2024 to 07/Mar/2025', 0, 1, 'C')\n",
    "pdf.ln(10)\n",
    "\n",
    "pdf.multi_cell(0, 10, 'What is NIFTY50?\\n\\nThe NIFTY50 is a benchmark Indian stock market index that represents the weighted average of 50 of the largest Indian companies listed on the National Stock Exchange (NSE). The index is widely used by investors as a measure of market performance and economic health. It covers various sectors, including financials, IT, energy, and consumer goods, providing a comprehensive overview of the Indian equity market.\\n\\nAuthor: Harshit Marwah')\n",
    "\n",
    "# Generate and save combined chart as an image\n",
    "plt.figure(figsize=(10, 10))\n",
    "plt.subplot(2, 1, 1)\n",
    "plt.plot(nifty50['Date'], nifty50['Returns'], label='Daily Returns', color='blue')\n",
    "plt.title('NIFTY50 Daily Returns')\n",
    "plt.xlabel('Date')\n",
    "plt.ylabel('Returns')\n",
    "plt.xticks(rotation=45)\n",
    "\n",
    "plt.subplot(2, 1, 2)\n",
    "plt.plot(nifty50['Date'], nifty50['Volatility'], label='Volatility', color='red')\n",
    "plt.title('NIFTY50 Daily Volatility (21-Day Rolling)')\n",
    "plt.xlabel('Date')\n",
    "plt.ylabel('Volatility')\n",
    "plt.xticks(rotation=45)\n",
    "\n",
    "plt.tight_layout()\n",
    "plt.savefig('combined_charts.png')\n",
    "plt.close()\n",
    "\n",
    "# Add Combined Charts section with image to PDF\n",
    "pdf.add_page()\n",
    "pdf.set_font('Arial', 'B', 14)\n",
    "pdf.cell(0, 10, 'Daily Returns and Volatility', 0, 1)\n",
    "pdf.set_font('Arial', '', 12)\n",
    "pdf.multi_cell(0, 10, '''The combined chart below illustrates both the daily returns and the 21-day rolling volatility of the NIFTY50 index over the selected period. Analyzing these metrics together helps in understanding market performance and risk levels.''')\n",
    "pdf.image('combined_charts.png', x=10, y=30, w=190)\n",
    "\n",
    "# Export PDF\n",
    "pdf.output('NIFTY50_Complete_Report.pdf')"
   ]
  },
  {
   "cell_type": "code",
   "execution_count": null,
   "id": "9dd7e449-0e3c-4dcf-8685-55fddd86ce04",
   "metadata": {},
   "outputs": [],
   "source": []
  },
  {
   "cell_type": "raw",
   "id": "7a2fefc7-3cd4-4d2a-84eb-d979605d561a",
   "metadata": {},
   "source": []
  }
 ],
 "metadata": {
  "kernelspec": {
   "display_name": "Python 3 (ipykernel)",
   "language": "python",
   "name": "python3"
  },
  "language_info": {
   "codemirror_mode": {
    "name": "ipython",
    "version": 3
   },
   "file_extension": ".py",
   "mimetype": "text/x-python",
   "name": "python",
   "nbconvert_exporter": "python",
   "pygments_lexer": "ipython3",
   "version": "3.12.4"
  }
 },
 "nbformat": 4,
 "nbformat_minor": 5
}
