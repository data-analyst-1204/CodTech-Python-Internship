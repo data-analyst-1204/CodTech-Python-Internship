{
 "cells": [
  {
   "cell_type": "raw",
   "id": "e33da402-57e4-46d1-bf5a-b4082e668fd9",
   "metadata": {},
   "source": [
    "Task 3 - creating a Chatbot for analyzing Nifty50 performance, OI Analysis, General Knowledge Questions"
   ]
  },
  {
   "cell_type": "code",
   "execution_count": null,
   "id": "fa125b35-19f7-4b25-88af-d4dfa278f5f1",
   "metadata": {},
   "outputs": [],
   "source": []
  },
  {
   "cell_type": "code",
   "execution_count": 12,
   "id": "94003124-ab9d-498d-8d45-454565cad3a0",
   "metadata": {},
   "outputs": [
    {
     "name": "stderr",
     "output_type": "stream",
     "text": [
      "[nltk_data] Downloading package punkt to\n",
      "[nltk_data]     C:\\Users\\Hp\\AppData\\Roaming\\nltk_data...\n",
      "[nltk_data]   Package punkt is already up-to-date!\n"
     ]
    },
    {
     "name": "stdout",
     "output_type": "stream",
     "text": [
      "Defaulting to user installation because normal site-packages is not writeable\n",
      "Requirement already satisfied: wikipedia-api in c:\\users\\hp\\appdata\\roaming\\python\\python312\\site-packages (0.8.1)\n",
      "Requirement already satisfied: yfinance in c:\\users\\hp\\appdata\\roaming\\python\\python312\\site-packages (0.2.54)\n",
      "Requirement already satisfied: nltk in c:\\programdata\\anaconda3\\lib\\site-packages (3.8.1)\n",
      "Requirement already satisfied: requests in c:\\programdata\\anaconda3\\lib\\site-packages (from wikipedia-api) (2.32.2)\n",
      "Requirement already satisfied: pandas>=1.3.0 in c:\\programdata\\anaconda3\\lib\\site-packages (from yfinance) (2.2.2)\n",
      "Requirement already satisfied: numpy>=1.16.5 in c:\\programdata\\anaconda3\\lib\\site-packages (from yfinance) (1.26.4)\n",
      "Requirement already satisfied: multitasking>=0.0.7 in c:\\users\\hp\\appdata\\roaming\\python\\python312\\site-packages (from yfinance) (0.0.11)\n",
      "Requirement already satisfied: platformdirs>=2.0.0 in c:\\programdata\\anaconda3\\lib\\site-packages (from yfinance) (3.10.0)\n",
      "Requirement already satisfied: pytz>=2022.5 in c:\\programdata\\anaconda3\\lib\\site-packages (from yfinance) (2024.1)\n",
      "Requirement already satisfied: frozendict>=2.3.4 in c:\\programdata\\anaconda3\\lib\\site-packages (from yfinance) (2.4.2)\n",
      "Requirement already satisfied: peewee>=3.16.2 in c:\\users\\hp\\appdata\\roaming\\python\\python312\\site-packages (from yfinance) (3.17.9)\n",
      "Requirement already satisfied: beautifulsoup4>=4.11.1 in c:\\programdata\\anaconda3\\lib\\site-packages (from yfinance) (4.12.3)\n",
      "Requirement already satisfied: click in c:\\programdata\\anaconda3\\lib\\site-packages (from nltk) (8.1.7)\n",
      "Requirement already satisfied: joblib in c:\\programdata\\anaconda3\\lib\\site-packages (from nltk) (1.4.2)\n",
      "Requirement already satisfied: regex>=2021.8.3 in c:\\programdata\\anaconda3\\lib\\site-packages (from nltk) (2023.10.3)\n",
      "Requirement already satisfied: tqdm in c:\\programdata\\anaconda3\\lib\\site-packages (from nltk) (4.66.4)\n",
      "Requirement already satisfied: soupsieve>1.2 in c:\\programdata\\anaconda3\\lib\\site-packages (from beautifulsoup4>=4.11.1->yfinance) (2.5)\n",
      "Requirement already satisfied: python-dateutil>=2.8.2 in c:\\programdata\\anaconda3\\lib\\site-packages (from pandas>=1.3.0->yfinance) (2.9.0.post0)\n",
      "Requirement already satisfied: tzdata>=2022.7 in c:\\programdata\\anaconda3\\lib\\site-packages (from pandas>=1.3.0->yfinance) (2023.3)\n",
      "Requirement already satisfied: charset-normalizer<4,>=2 in c:\\programdata\\anaconda3\\lib\\site-packages (from requests->wikipedia-api) (2.0.4)\n",
      "Requirement already satisfied: idna<4,>=2.5 in c:\\programdata\\anaconda3\\lib\\site-packages (from requests->wikipedia-api) (3.7)\n",
      "Requirement already satisfied: urllib3<3,>=1.21.1 in c:\\programdata\\anaconda3\\lib\\site-packages (from requests->wikipedia-api) (2.2.2)\n",
      "Requirement already satisfied: certifi>=2017.4.17 in c:\\programdata\\anaconda3\\lib\\site-packages (from requests->wikipedia-api) (2024.6.2)\n",
      "Requirement already satisfied: colorama in c:\\programdata\\anaconda3\\lib\\site-packages (from click->nltk) (0.4.6)\n",
      "Requirement already satisfied: six>=1.5 in c:\\programdata\\anaconda3\\lib\\site-packages (from python-dateutil>=2.8.2->pandas>=1.3.0->yfinance) (1.16.0)\n",
      "Chatbot is ready! Type 'bye' to exit.\n"
     ]
    },
    {
     "name": "stdin",
     "output_type": "stream",
     "text": [
      "You:  nifty50 close\n"
     ]
    },
    {
     "name": "stdout",
     "output_type": "stream",
     "text": [
      "Chatbot: I'm not sure how to answer that.\n"
     ]
    },
    {
     "name": "stdin",
     "output_type": "stream",
     "text": [
      "You:  nifty50 price\n"
     ]
    },
    {
     "name": "stdout",
     "output_type": "stream",
     "text": [
      "Chatbot: NIFTY50 current price: ₹23350.40\n"
     ]
    },
    {
     "name": "stdin",
     "output_type": "stream",
     "text": [
      "You:  bye\n"
     ]
    },
    {
     "name": "stdout",
     "output_type": "stream",
     "text": [
      "Chatbot: Goodbye!\n"
     ]
    }
   ],
   "source": [
    "# Install required libraries\n",
    "!pip install wikipedia-api yfinance nltk\n",
    "\n",
    "# Import necessary libraries\n",
    "import wikipediaapi\n",
    "import yfinance as yf\n",
    "import nltk\n",
    "from nltk.chat.util import Chat, reflections\n",
    "\n",
    "# Ensure necessary downloads for NLTK\n",
    "nltk.download('punkt')\n",
    "\n",
    "# Initialize Wikipedia API with a proper user agent\n",
    "wiki_wiki = wikipediaapi.Wikipedia(user_agent=\"YourChatbot/1.0 (contact@example.com)\", language='en')\n",
    "\n",
    "# Function to fetch Wikipedia summary\n",
    "def get_wikipedia_summary(query):\n",
    "    page = wiki_wiki.page(query)\n",
    "    if page.exists():\n",
    "        return page.summary[:500]  # Return first 500 characters\n",
    "    else:\n",
    "        return \"Sorry, no relevant Wikipedia page found.\"\n",
    "\n",
    "# Function to fetch NIFTY50 stock price\n",
    "def get_nifty50_price():\n",
    "    try:\n",
    "        nifty = yf.Ticker(\"^NSEI\")\n",
    "        price = nifty.history(period=\"1d\")[\"Close\"].iloc[-1]\n",
    "        return f\"NIFTY50 current price: ₹{price:.2f}\"\n",
    "    except Exception as e:\n",
    "        return f\"Error fetching stock data: {e}\"\n",
    "\n",
    "# Function to fetch NIFTY50 performance over time\n",
    "def get_nifty50_performance(period):\n",
    "    try:\n",
    "        nifty = yf.Ticker(\"^NSEI\")\n",
    "        data = nifty.history(period=period)\n",
    "        start_price = data[\"Close\"].iloc[0]\n",
    "        end_price = data[\"Close\"].iloc[-1]\n",
    "        percent_change = ((end_price - start_price) / start_price) * 100\n",
    "        return f\"NIFTY50 performance ({period}): {percent_change:.2f}%\"\n",
    "    except Exception as e:\n",
    "        return f\"Error fetching stock performance: {e}\"\n",
    "\n",
    "# Define chatbot responses\n",
    "pairs = [\n",
    "    [r\"hi|hello\", [\"Hello!\", \"Hi there!\", \"Hey!\"]],\n",
    "    [r\"how are you?\", [\"I'm a bot, but I'm doing great!\"]],\n",
    "    [r\"what is your name?\", [\"I'm your friendly chatbot.\"]],\n",
    "    [r\"bye\", [\"Goodbye!\", \"See you later!\", \"Bye!\"]],\n",
    "]\n",
    "\n",
    "# Function to process user queries\n",
    "def chatbot_response(user_input):\n",
    "    user_input = user_input.lower()\n",
    "\n",
    "    # Check for NIFTY50 queries\n",
    "    if \"nifty50 performance\" in user_input:\n",
    "        if \"1 week\" in user_input:\n",
    "            return get_nifty50_performance(\"7d\")\n",
    "        elif \"1 month\" in user_input:\n",
    "            return get_nifty50_performance(\"1mo\")\n",
    "        else:\n",
    "            return \"Please specify a time period: '1 week' or '1 month'.\"\n",
    "    \n",
    "    # Check for NIFTY50 price query\n",
    "    elif \"nifty50 price\" in user_input:\n",
    "        return get_nifty50_price()\n",
    "    \n",
    "    # Check for Wikipedia queries\n",
    "    elif \"tell me about\" in user_input:\n",
    "        topic = user_input.replace(\"tell me about\", \"\").strip()\n",
    "        return get_wikipedia_summary(topic)\n",
    "\n",
    "    # Use predefined chatbot responses\n",
    "    else:\n",
    "        chatbot = Chat(pairs, reflections)\n",
    "        return chatbot.respond(user_input) or \"I'm not sure how to answer that.\"\n",
    "\n",
    "# Chatbot loop\n",
    "def chatbot_loop():\n",
    "    print(\"Chatbot is ready! Type 'bye' to exit.\")\n",
    "    while True:\n",
    "        user_input = input(\"You: \").strip()\n",
    "        if user_input.lower() in [\"bye\", \"exit\"]:\n",
    "            print(\"Chatbot: Goodbye!\")\n",
    "            break\n",
    "        response = chatbot_response(user_input)\n",
    "        print(f\"Chatbot: {response}\")\n",
    "\n",
    "# Start chatbot\n",
    "chatbot_loop()"
   ]
  },
  {
   "cell_type": "code",
   "execution_count": null,
   "id": "0663ad4a-d89b-490d-a4f8-26bb4d8c3ea0",
   "metadata": {},
   "outputs": [],
   "source": []
  },
  {
   "cell_type": "code",
   "execution_count": null,
   "id": "2d154bd8-c71f-4564-98bb-6c9b08983119",
   "metadata": {},
   "outputs": [],
   "source": []
  },
  {
   "cell_type": "code",
   "execution_count": null,
   "id": "41f02484-75bc-4205-89c0-be485f92354c",
   "metadata": {},
   "outputs": [],
   "source": []
  },
  {
   "cell_type": "code",
   "execution_count": null,
   "id": "902cd57f-cf21-46b8-b14e-861ab8c0a21b",
   "metadata": {},
   "outputs": [],
   "source": []
  },
  {
   "cell_type": "code",
   "execution_count": 17,
   "id": "92610577-0253-413c-b2b3-71d613440777",
   "metadata": {},
   "outputs": [],
   "source": [
    "def get_previous_close(stock_symbol):\n",
    "    try:\n",
    "        stock = yf.Ticker(stock_symbol)\n",
    "        history = stock.history(period=\"2d\")  # Fetch last 2 days to get the latest close\n",
    "        if len(history) < 2:\n",
    "            return f\"Sorry, I couldn't fetch the previous closing price for {stock_symbol}.\"\n",
    "        prev_close = history[\"Close\"].iloc[-2]  # Get the closing price of the previous day\n",
    "        return f\"The previous closing price of {stock_symbol} was ₹{round(prev_close, 2)}.\"\n",
    "    except Exception as e:\n",
    "        return f\"Error fetching data for {stock_symbol}.\"\n",
    "\n",
    "# Modify chatbot_response to handle stock queries\n",
    "def chatbot_response(user_input):\n",
    "    user_input = user_input.lower()\n",
    "\n",
    "    if \"previous closing price\" in user_input:\n",
    "        if \"hdfc bank\" in user_input:\n",
    "            return get_previous_close(\"HDFCBANK.NS\")\n",
    "        elif \"cms info systems\" in user_input:\n",
    "            return get_previous_close(\"CMSINFO.NS\")\n",
    "        elif \"goldbees etf\" in user_input:\n",
    "            return get_previous_close(\"GOLDBEES.NS\")\n",
    "        else:\n",
    "            return \"Please specify a valid stock name.\"\n",
    "\n",
    "    return \"I'm not sure how to answer that.\""
   ]
  },
  {
   "cell_type": "code",
   "execution_count": null,
   "id": "54d13c89-75b6-428e-aa3e-3f0230737d60",
   "metadata": {},
   "outputs": [],
   "source": []
  },
  {
   "cell_type": "code",
   "execution_count": 19,
   "id": "df6a90e6-8106-4c60-8f66-331c742cc61f",
   "metadata": {},
   "outputs": [
    {
     "name": "stdout",
     "output_type": "stream",
     "text": [
      "Chatbot is ready! Type 'bye' to exit.\n"
     ]
    },
    {
     "name": "stdin",
     "output_type": "stream",
     "text": [
      "You:  what is the previous close price of CMS info systems\n"
     ]
    },
    {
     "name": "stdout",
     "output_type": "stream",
     "text": [
      "Chatbot: I'm not sure how to answer that.\n"
     ]
    },
    {
     "name": "stdin",
     "output_type": "stream",
     "text": [
      "You:  What was the previous closing price of CMS Info Systems?\n"
     ]
    },
    {
     "name": "stdout",
     "output_type": "stream",
     "text": [
      "Chatbot: The previous closing price of CMSINFO.NS was ₹457.0.\n"
     ]
    },
    {
     "name": "stdin",
     "output_type": "stream",
     "text": [
      "You:  What was the previous closing price of nifty50?\n"
     ]
    },
    {
     "name": "stdout",
     "output_type": "stream",
     "text": [
      "Chatbot: Please specify a valid stock name.\n"
     ]
    },
    {
     "name": "stdin",
     "output_type": "stream",
     "text": [
      "You:  What was the previous closing price of HDFC Bank?\n"
     ]
    },
    {
     "name": "stdout",
     "output_type": "stream",
     "text": [
      "Chatbot: The previous closing price of HDFCBANK.NS was ₹1768.75.\n"
     ]
    },
    {
     "name": "stdin",
     "output_type": "stream",
     "text": [
      "You:  What was the previous closing price of Goldbees ETF?\n"
     ]
    },
    {
     "name": "stdout",
     "output_type": "stream",
     "text": [
      "Chatbot: The previous closing price of GOLDBEES.NS was ₹74.49.\n"
     ]
    },
    {
     "name": "stdin",
     "output_type": "stream",
     "text": [
      "You:  who is elon musk\n"
     ]
    },
    {
     "name": "stdout",
     "output_type": "stream",
     "text": [
      "Chatbot: I'm not sure how to answer that.\n"
     ]
    },
    {
     "name": "stdin",
     "output_type": "stream",
     "text": [
      "You:  bye\n"
     ]
    },
    {
     "name": "stdout",
     "output_type": "stream",
     "text": [
      "Chatbot: Goodbye!\n"
     ]
    }
   ],
   "source": [
    "chatbot_loop()"
   ]
  },
  {
   "cell_type": "raw",
   "id": "9106c239-863a-44c0-8d6d-bf9bf8fbb039",
   "metadata": {},
   "source": [
    "Above chatbot only asnwers questions related to stock market only."
   ]
  },
  {
   "cell_type": "code",
   "execution_count": null,
   "id": "e6eccf17-6633-4f69-ae9f-4c27d469fb6e",
   "metadata": {},
   "outputs": [],
   "source": []
  },
  {
   "cell_type": "raw",
   "id": "2c0aa5e0-c793-4f55-b025-52d63ddc6317",
   "metadata": {},
   "source": [
    "Chatbot for Multiple type of Quesries"
   ]
  },
  {
   "cell_type": "code",
   "execution_count": 20,
   "id": "59c55a12-0c15-4ae5-a1a2-94a1fbd7042c",
   "metadata": {},
   "outputs": [
    {
     "name": "stderr",
     "output_type": "stream",
     "text": [
      "[nltk_data] Downloading package punkt to\n",
      "[nltk_data]     C:\\Users\\Hp\\AppData\\Roaming\\nltk_data...\n",
      "[nltk_data]   Package punkt is already up-to-date!\n"
     ]
    },
    {
     "name": "stdout",
     "output_type": "stream",
     "text": [
      "Chatbot is ready! Type 'bye' to exit.\n"
     ]
    },
    {
     "name": "stdin",
     "output_type": "stream",
     "text": [
      "You:  who is elon musk\n"
     ]
    },
    {
     "name": "stdout",
     "output_type": "stream",
     "text": [
      "Chatbot: Elon Reeve Musk ( EE-lon; born June 28, 1971) is a businessman known for his key roles in Tesla, SpaceX, and Twitter (which he rebranded as X). Since 2025, he has been a senior advisor to United States president Donald Trump and the de facto head of the Department of Government Efficiency (DOGE). Mu...\n"
     ]
    },
    {
     "name": "stdin",
     "output_type": "stream",
     "text": [
      "You:  who is warren buffet\n"
     ]
    },
    {
     "name": "stdout",
     "output_type": "stream",
     "text": [
      "Chatbot: Warren Edward Buffett ( BUF-it; born August 30, 1930) is an American investor and philanthropist who currently serves as the chairman and CEO of Berkshire Hathaway. As a result of his investment success, Buffett is one of the best-known investors in the world. According to Forbes, as of 17 February ...\n"
     ]
    },
    {
     "name": "stdin",
     "output_type": "stream",
     "text": [
      "You:  What was the previous closing price of HDFC Bank\n"
     ]
    },
    {
     "name": "stdout",
     "output_type": "stream",
     "text": [
      "Chatbot: The previous closing price of HDFCBANK.NS was ₹1768.75.\n"
     ]
    },
    {
     "name": "stdin",
     "output_type": "stream",
     "text": [
      "You:  What was the previous closing price of Goldbees ETF?\n"
     ]
    },
    {
     "name": "stdout",
     "output_type": "stream",
     "text": [
      "Chatbot: The previous closing price of GOLDBEES.NS was ₹74.49.\n"
     ]
    },
    {
     "name": "stdin",
     "output_type": "stream",
     "text": [
      "You:  Tell me about artificial intelligence.\n"
     ]
    },
    {
     "name": "stdout",
     "output_type": "stream",
     "text": [
      "Chatbot: Sorry, no relevant Wikipedia page found.\n"
     ]
    },
    {
     "name": "stdin",
     "output_type": "stream",
     "text": [
      "You:  bye\n"
     ]
    },
    {
     "name": "stdout",
     "output_type": "stream",
     "text": [
      "Chatbot: Goodbye!\n"
     ]
    }
   ],
   "source": [
    "import yfinance as yf\n",
    "import wikipediaapi\n",
    "import nltk\n",
    "import datetime\n",
    "\n",
    "# Ensure necessary downloads\n",
    "nltk.download(\"punkt\")\n",
    "\n",
    "# Initialize Wikipedia API with user-agent\n",
    "wiki_wiki = wikipediaapi.Wikipedia(user_agent=\"MyChatbot/1.0 (contact@example.com)\", language=\"en\")\n",
    "\n",
    "# Function to fetch previous closing price\n",
    "def get_previous_close(stock_symbol):\n",
    "    try:\n",
    "        stock = yf.Ticker(stock_symbol)\n",
    "        history = stock.history(period=\"2d\")  # Fetch last 2 days\n",
    "        if len(history) < 2:\n",
    "            return f\"Sorry, I couldn't fetch the previous closing price for {stock_symbol}.\"\n",
    "        prev_close = history[\"Close\"].iloc[-2]  # Get the closing price of the previous day\n",
    "        return f\"The previous closing price of {stock_symbol} was ₹{round(prev_close, 2)}.\"\n",
    "    except Exception as e:\n",
    "        return f\"Error fetching data for {stock_symbol}. {str(e)}\"\n",
    "\n",
    "# Function to fetch Wikipedia summary\n",
    "def get_wikipedia_summary(query):\n",
    "    try:\n",
    "        page = wiki_wiki.page(query)\n",
    "        if not page.exists():\n",
    "            return \"Sorry, no relevant Wikipedia page found.\"\n",
    "        return page.summary[:300] + \"...\"  # Return first 300 characters\n",
    "    except Exception as e:\n",
    "        return f\"Error fetching Wikipedia data: {str(e)}\"\n",
    "\n",
    "# Function to process user queries\n",
    "def chatbot_response(user_input):\n",
    "    user_input = user_input.lower()\n",
    "\n",
    "    # Check for stock price queries\n",
    "    if \"previous closing price\" in user_input:\n",
    "        if \"hdfc bank\" in user_input:\n",
    "            return get_previous_close(\"HDFCBANK.NS\")\n",
    "        elif \"cms info systems\" in user_input:\n",
    "            return get_previous_close(\"CMSINFO.NS\")\n",
    "        elif \"goldbees etf\" in user_input:\n",
    "            return get_previous_close(\"GOLDBEES.NS\")\n",
    "        else:\n",
    "            return \"Please specify a valid stock name.\"\n",
    "\n",
    "    # Check for Wikipedia queries\n",
    "    elif \"who is\" in user_input or \"tell me about\" in user_input:\n",
    "        topic = user_input.replace(\"who is\", \"\").replace(\"tell me about\", \"\").strip()\n",
    "        return get_wikipedia_summary(topic)\n",
    "\n",
    "    return \"I'm not sure how to answer that. Try asking about stock prices or Wikipedia topics.\"\n",
    "\n",
    "# Chatbot loop\n",
    "def chatbot_loop():\n",
    "    print(\"Chatbot is ready! Type 'bye' to exit.\")\n",
    "    while True:\n",
    "        user_input = input(\"You: \").strip()\n",
    "        if user_input.lower() in [\"bye\", \"exit\"]:\n",
    "            print(\"Chatbot: Goodbye!\")\n",
    "            break\n",
    "        response = chatbot_response(user_input)\n",
    "        print(f\"Chatbot: {response}\")\n",
    "\n",
    "# Start chatbot\n",
    "chatbot_loop()"
   ]
  },
  {
   "cell_type": "code",
   "execution_count": null,
   "id": "c1615357-1552-4700-95bf-1eed100edcc4",
   "metadata": {},
   "outputs": [],
   "source": []
  },
  {
   "cell_type": "code",
   "execution_count": null,
   "id": "59500ba5-ce58-46f0-8f69-004c3a1291e4",
   "metadata": {},
   "outputs": [],
   "source": []
  }
 ],
 "metadata": {
  "kernelspec": {
   "display_name": "Python 3 (ipykernel)",
   "language": "python",
   "name": "python3"
  },
  "language_info": {
   "codemirror_mode": {
    "name": "ipython",
    "version": 3
   },
   "file_extension": ".py",
   "mimetype": "text/x-python",
   "name": "python",
   "nbconvert_exporter": "python",
   "pygments_lexer": "ipython3",
   "version": "3.12.4"
  }
 },
 "nbformat": 4,
 "nbformat_minor": 5
}
